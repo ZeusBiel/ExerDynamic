{
 "cells": [
  {
   "cell_type": "code",
   "execution_count": 1,
   "metadata": {},
   "outputs": [],
   "source": [
    "lista1 = [1,2,3]\n",
    "lista2 = [4,5,6]"
   ]
  },
  {
   "cell_type": "code",
   "execution_count": 2,
   "metadata": {},
   "outputs": [
    {
     "name": "stdout",
     "output_type": "stream",
     "text": [
      "Lista concatenada: [1, 2, 3, 4, 5, 6]\n"
     ]
    }
   ],
   "source": [
    "lista_concatenada = lista1 + lista2\n",
    "print(f\"Lista concatenada: {lista_concatenada}\")"
   ]
  },
  {
   "cell_type": "code",
   "execution_count": 5,
   "metadata": {},
   "outputs": [
    {
     "name": "stdout",
     "output_type": "stream",
     "text": [
      "Numeros do terceiro ao sexto: [3, 4, 5, 6]\n",
      "Numeros do primeiro ao quinto saltando de dois em dois:  [1, 3, 5]\n"
     ]
    }
   ],
   "source": [
    "numeros = list(range(1,11))\n",
    "print(\"Numeros do terceiro ao sexto:\", numeros[2:6])\n",
    "print(\"Numeros do primeiro ao quinto saltando de dois em dois: \",numeros[:5:2])\n"
   ]
  },
  {
   "cell_type": "code",
   "execution_count": null,
   "metadata": {},
   "outputs": [],
   "source": []
  }
 ],
 "metadata": {
  "kernelspec": {
   "display_name": "Python 3",
   "language": "python",
   "name": "python3"
  },
  "language_info": {
   "codemirror_mode": {
    "name": "ipython",
    "version": 3
   },
   "file_extension": ".py",
   "mimetype": "text/x-python",
   "name": "python",
   "nbconvert_exporter": "python",
   "pygments_lexer": "ipython3",
   "version": "3.11.4"
  },
  "orig_nbformat": 4
 },
 "nbformat": 4,
 "nbformat_minor": 2
}
